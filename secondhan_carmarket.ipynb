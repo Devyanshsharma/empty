{
 "cells": [
  {
   "cell_type": "code",
   "execution_count": 2,
   "id": "883f870c-572f-47a5-9ba4-a24d0f968f37",
   "metadata": {},
   "outputs": [],
   "source": [
    "import numpy as np\n",
    "import pandas as pd\n",
    "import json \n",
    "from sqlalchemy import create_engine\n",
    "import matplotlib.pyplot as plt\n",
    "import matplotlib.ticker as ticker"
   ]
  },
  {
   "cell_type": "code",
   "execution_count": 3,
   "id": "18992d48-387e-447c-a671-d902dbe72f57",
   "metadata": {},
   "outputs": [],
   "source": [
    "import sqlite3 "
   ]
  },
  {
   "cell_type": "code",
   "execution_count": 4,
   "id": "af22effe-c472-43ad-9961-3147b843a0db",
   "metadata": {},
   "outputs": [],
   "source": [
    "car_values=pd.read_csv('car data.csv')"
   ]
  },
  {
   "cell_type": "code",
   "execution_count": 5,
   "id": "87a35581-1823-43ab-b6b7-74880c866018",
   "metadata": {},
   "outputs": [],
   "source": [
    "# load dataset into python\n",
    "car_details=pd.read_csv('CAR_DETAILS_FROM_CAR_DEKHO.csv')"
   ]
  },
  {
   "cell_type": "code",
   "execution_count": 6,
   "id": "522e1e1e-b8a8-45bf-a2c6-b37e9e0320c4",
   "metadata": {},
   "outputs": [
    {
     "data": {
      "text/plain": [
       "pandas.core.frame.DataFrame"
      ]
     },
     "execution_count": 6,
     "metadata": {},
     "output_type": "execute_result"
    }
   ],
   "source": [
    "type(car_details)"
   ]
  },
  {
   "cell_type": "code",
   "execution_count": 7,
   "id": "a89115ee-8f98-4b5e-adf0-b1105e701e71",
   "metadata": {},
   "outputs": [
    {
     "data": {
      "text/html": [
       "<div>\n",
       "<style scoped>\n",
       "    .dataframe tbody tr th:only-of-type {\n",
       "        vertical-align: middle;\n",
       "    }\n",
       "\n",
       "    .dataframe tbody tr th {\n",
       "        vertical-align: top;\n",
       "    }\n",
       "\n",
       "    .dataframe thead th {\n",
       "        text-align: right;\n",
       "    }\n",
       "</style>\n",
       "<table border=\"1\" class=\"dataframe\">\n",
       "  <thead>\n",
       "    <tr style=\"text-align: right;\">\n",
       "      <th></th>\n",
       "      <th>name</th>\n",
       "      <th>year</th>\n",
       "      <th>selling_price</th>\n",
       "      <th>km_driven</th>\n",
       "      <th>fuel</th>\n",
       "      <th>seller_type</th>\n",
       "      <th>transmission</th>\n",
       "      <th>owner</th>\n",
       "    </tr>\n",
       "  </thead>\n",
       "  <tbody>\n",
       "    <tr>\n",
       "      <th>0</th>\n",
       "      <td>Maruti 800 AC</td>\n",
       "      <td>2007</td>\n",
       "      <td>60000</td>\n",
       "      <td>70000</td>\n",
       "      <td>Petrol</td>\n",
       "      <td>Individual</td>\n",
       "      <td>Manual</td>\n",
       "      <td>First Owner</td>\n",
       "    </tr>\n",
       "    <tr>\n",
       "      <th>1</th>\n",
       "      <td>Maruti Wagon R LXI Minor</td>\n",
       "      <td>2007</td>\n",
       "      <td>135000</td>\n",
       "      <td>50000</td>\n",
       "      <td>Petrol</td>\n",
       "      <td>Individual</td>\n",
       "      <td>Manual</td>\n",
       "      <td>First Owner</td>\n",
       "    </tr>\n",
       "    <tr>\n",
       "      <th>2</th>\n",
       "      <td>Hyundai Verna 1.6 SX</td>\n",
       "      <td>2012</td>\n",
       "      <td>600000</td>\n",
       "      <td>100000</td>\n",
       "      <td>Diesel</td>\n",
       "      <td>Individual</td>\n",
       "      <td>Manual</td>\n",
       "      <td>First Owner</td>\n",
       "    </tr>\n",
       "    <tr>\n",
       "      <th>3</th>\n",
       "      <td>Datsun RediGO T Option</td>\n",
       "      <td>2017</td>\n",
       "      <td>250000</td>\n",
       "      <td>46000</td>\n",
       "      <td>Petrol</td>\n",
       "      <td>Individual</td>\n",
       "      <td>Manual</td>\n",
       "      <td>First Owner</td>\n",
       "    </tr>\n",
       "    <tr>\n",
       "      <th>4</th>\n",
       "      <td>Honda Amaze VX i-DTEC</td>\n",
       "      <td>2014</td>\n",
       "      <td>450000</td>\n",
       "      <td>141000</td>\n",
       "      <td>Diesel</td>\n",
       "      <td>Individual</td>\n",
       "      <td>Manual</td>\n",
       "      <td>Second Owner</td>\n",
       "    </tr>\n",
       "  </tbody>\n",
       "</table>\n",
       "</div>"
      ],
      "text/plain": [
       "                       name  year  selling_price  km_driven    fuel  \\\n",
       "0             Maruti 800 AC  2007          60000      70000  Petrol   \n",
       "1  Maruti Wagon R LXI Minor  2007         135000      50000  Petrol   \n",
       "2      Hyundai Verna 1.6 SX  2012         600000     100000  Diesel   \n",
       "3    Datsun RediGO T Option  2017         250000      46000  Petrol   \n",
       "4     Honda Amaze VX i-DTEC  2014         450000     141000  Diesel   \n",
       "\n",
       "  seller_type transmission         owner  \n",
       "0  Individual       Manual   First Owner  \n",
       "1  Individual       Manual   First Owner  \n",
       "2  Individual       Manual   First Owner  \n",
       "3  Individual       Manual   First Owner  \n",
       "4  Individual       Manual  Second Owner  "
      ]
     },
     "execution_count": 7,
     "metadata": {},
     "output_type": "execute_result"
    }
   ],
   "source": [
    "car_details.head()"
   ]
  },
  {
   "cell_type": "code",
   "execution_count": 8,
   "id": "82801fe9-1850-4cd3-9bba-c29c771e8378",
   "metadata": {},
   "outputs": [
    {
     "data": {
      "text/html": [
       "<div>\n",
       "<style scoped>\n",
       "    .dataframe tbody tr th:only-of-type {\n",
       "        vertical-align: middle;\n",
       "    }\n",
       "\n",
       "    .dataframe tbody tr th {\n",
       "        vertical-align: top;\n",
       "    }\n",
       "\n",
       "    .dataframe thead th {\n",
       "        text-align: right;\n",
       "    }\n",
       "</style>\n",
       "<table border=\"1\" class=\"dataframe\">\n",
       "  <thead>\n",
       "    <tr style=\"text-align: right;\">\n",
       "      <th></th>\n",
       "      <th>Car_Name</th>\n",
       "      <th>Year</th>\n",
       "      <th>Selling_Price</th>\n",
       "      <th>Present_Price</th>\n",
       "      <th>Kms_Driven</th>\n",
       "      <th>Fuel_Type</th>\n",
       "      <th>Seller_Type</th>\n",
       "      <th>Transmission</th>\n",
       "      <th>Owner</th>\n",
       "    </tr>\n",
       "  </thead>\n",
       "  <tbody>\n",
       "    <tr>\n",
       "      <th>0</th>\n",
       "      <td>ritz</td>\n",
       "      <td>2014</td>\n",
       "      <td>3.35</td>\n",
       "      <td>5.59</td>\n",
       "      <td>27000</td>\n",
       "      <td>Petrol</td>\n",
       "      <td>Dealer</td>\n",
       "      <td>Manual</td>\n",
       "      <td>0</td>\n",
       "    </tr>\n",
       "    <tr>\n",
       "      <th>1</th>\n",
       "      <td>sx4</td>\n",
       "      <td>2013</td>\n",
       "      <td>4.75</td>\n",
       "      <td>9.54</td>\n",
       "      <td>43000</td>\n",
       "      <td>Diesel</td>\n",
       "      <td>Dealer</td>\n",
       "      <td>Manual</td>\n",
       "      <td>0</td>\n",
       "    </tr>\n",
       "    <tr>\n",
       "      <th>2</th>\n",
       "      <td>ciaz</td>\n",
       "      <td>2017</td>\n",
       "      <td>7.25</td>\n",
       "      <td>9.85</td>\n",
       "      <td>6900</td>\n",
       "      <td>Petrol</td>\n",
       "      <td>Dealer</td>\n",
       "      <td>Manual</td>\n",
       "      <td>0</td>\n",
       "    </tr>\n",
       "    <tr>\n",
       "      <th>3</th>\n",
       "      <td>wagon r</td>\n",
       "      <td>2011</td>\n",
       "      <td>2.85</td>\n",
       "      <td>4.15</td>\n",
       "      <td>5200</td>\n",
       "      <td>Petrol</td>\n",
       "      <td>Dealer</td>\n",
       "      <td>Manual</td>\n",
       "      <td>0</td>\n",
       "    </tr>\n",
       "    <tr>\n",
       "      <th>4</th>\n",
       "      <td>swift</td>\n",
       "      <td>2014</td>\n",
       "      <td>4.60</td>\n",
       "      <td>6.87</td>\n",
       "      <td>42450</td>\n",
       "      <td>Diesel</td>\n",
       "      <td>Dealer</td>\n",
       "      <td>Manual</td>\n",
       "      <td>0</td>\n",
       "    </tr>\n",
       "  </tbody>\n",
       "</table>\n",
       "</div>"
      ],
      "text/plain": [
       "  Car_Name  Year  Selling_Price  Present_Price  Kms_Driven Fuel_Type  \\\n",
       "0     ritz  2014           3.35           5.59       27000    Petrol   \n",
       "1      sx4  2013           4.75           9.54       43000    Diesel   \n",
       "2     ciaz  2017           7.25           9.85        6900    Petrol   \n",
       "3  wagon r  2011           2.85           4.15        5200    Petrol   \n",
       "4    swift  2014           4.60           6.87       42450    Diesel   \n",
       "\n",
       "  Seller_Type Transmission  Owner  \n",
       "0      Dealer       Manual      0  \n",
       "1      Dealer       Manual      0  \n",
       "2      Dealer       Manual      0  \n",
       "3      Dealer       Manual      0  \n",
       "4      Dealer       Manual      0  "
      ]
     },
     "execution_count": 8,
     "metadata": {},
     "output_type": "execute_result"
    }
   ],
   "source": [
    "car_values.head()"
   ]
  },
  {
   "cell_type": "code",
   "execution_count": 9,
   "id": "ea7b4954-7458-4aa9-acf7-1bd45c9dba65",
   "metadata": {},
   "outputs": [
    {
     "name": "stdout",
     "output_type": "stream",
     "text": [
      "(301, 9)\n"
     ]
    }
   ],
   "source": [
    "print(car_values.shape)"
   ]
  },
  {
   "cell_type": "code",
   "execution_count": 10,
   "id": "22dba748-b75d-4690-8f0a-d058a168aeee",
   "metadata": {},
   "outputs": [
    {
     "name": "stdout",
     "output_type": "stream",
     "text": [
      "(4340, 8)\n"
     ]
    }
   ],
   "source": [
    "print(car_details.shape)"
   ]
  },
  {
   "cell_type": "code",
   "execution_count": 11,
   "id": "170337d8-28b4-4403-a25d-7be053ffc245",
   "metadata": {},
   "outputs": [],
   "source": [
    "engine=create_engine('sqlite:///carmarket.db')"
   ]
  },
  {
   "cell_type": "code",
   "execution_count": 12,
   "id": "f5e35ae6-e15c-4996-a086-1ce0e4f81ca9",
   "metadata": {},
   "outputs": [],
   "source": [
    "def load_dataframe(df,table_name,engine):\n",
    "    df.to_sql(table_name,con=engine,if_exists='replace',index=False)\n",
    "load_dataframe(car_details,'details',engine)"
   ]
  },
  {
   "cell_type": "code",
   "execution_count": 13,
   "id": "b70a38a1-c083-4da2-b110-98b9f28c311e",
   "metadata": {},
   "outputs": [],
   "source": [
    "load_dataframe(car_values,'true_values',engine)"
   ]
  },
  {
   "cell_type": "code",
   "execution_count": 14,
   "id": "e2cf6903-9448-4ee5-bd74-56a518ef5d18",
   "metadata": {},
   "outputs": [],
   "source": [
    "connection=sqlite3.connect('carmarket.db')"
   ]
  },
  {
   "cell_type": "code",
   "execution_count": 49,
   "id": "67dea9ee-d140-42a8-a257-0870149aa2bd",
   "metadata": {},
   "outputs": [
    {
     "data": {
      "text/plain": [
       "4069"
      ]
     },
     "execution_count": 49,
     "metadata": {},
     "output_type": "execute_result"
    }
   ],
   "source": []
  },
  {
   "cell_type": "code",
   "execution_count": 15,
   "id": "3db98892-b894-4535-828f-bc3616260539",
   "metadata": {},
   "outputs": [],
   "source": [
    "tables=pd.read_sql_query(\"select name from sqlite_master where type='table'\",connection)"
   ]
  },
  {
   "cell_type": "code",
   "execution_count": 35,
   "id": "c2adba7f-49ab-4dfb-866b-fc7c83c0580d",
   "metadata": {},
   "outputs": [
    {
     "data": {
      "text/html": [
       "<div>\n",
       "<style scoped>\n",
       "    .dataframe tbody tr th:only-of-type {\n",
       "        vertical-align: middle;\n",
       "    }\n",
       "\n",
       "    .dataframe tbody tr th {\n",
       "        vertical-align: top;\n",
       "    }\n",
       "\n",
       "    .dataframe thead th {\n",
       "        text-align: right;\n",
       "    }\n",
       "</style>\n",
       "<table border=\"1\" class=\"dataframe\">\n",
       "  <thead>\n",
       "    <tr style=\"text-align: right;\">\n",
       "      <th></th>\n",
       "      <th>name</th>\n",
       "    </tr>\n",
       "  </thead>\n",
       "  <tbody>\n",
       "    <tr>\n",
       "      <th>0</th>\n",
       "      <td>details</td>\n",
       "    </tr>\n",
       "    <tr>\n",
       "      <th>1</th>\n",
       "      <td>true_values</td>\n",
       "    </tr>\n",
       "  </tbody>\n",
       "</table>\n",
       "</div>"
      ],
      "text/plain": [
       "          name\n",
       "0      details\n",
       "1  true_values"
      ]
     },
     "execution_count": 35,
     "metadata": {},
     "output_type": "execute_result"
    }
   ],
   "source": [
    "tables"
   ]
  },
  {
   "cell_type": "code",
   "execution_count": null,
   "id": "84af44bf-f5e0-4888-8b5e-48be6fe63db0",
   "metadata": {},
   "outputs": [],
   "source": []
  },
  {
   "cell_type": "code",
   "execution_count": 17,
   "id": "6cab2515-befc-4ba9-bda1-faec183a0ecc",
   "metadata": {},
   "outputs": [
    {
     "data": {
      "text/html": [
       "<div>\n",
       "<style scoped>\n",
       "    .dataframe tbody tr th:only-of-type {\n",
       "        vertical-align: middle;\n",
       "    }\n",
       "\n",
       "    .dataframe tbody tr th {\n",
       "        vertical-align: top;\n",
       "    }\n",
       "\n",
       "    .dataframe thead th {\n",
       "        text-align: right;\n",
       "    }\n",
       "</style>\n",
       "<table border=\"1\" class=\"dataframe\">\n",
       "  <thead>\n",
       "    <tr style=\"text-align: right;\">\n",
       "      <th></th>\n",
       "      <th>name</th>\n",
       "      <th>year</th>\n",
       "      <th>selling_price</th>\n",
       "      <th>km_driven</th>\n",
       "      <th>fuel</th>\n",
       "      <th>seller_type</th>\n",
       "      <th>transmission</th>\n",
       "      <th>owner</th>\n",
       "    </tr>\n",
       "  </thead>\n",
       "  <tbody>\n",
       "    <tr>\n",
       "      <th>0</th>\n",
       "      <td>Maruti 800 AC</td>\n",
       "      <td>2007</td>\n",
       "      <td>60000</td>\n",
       "      <td>70000</td>\n",
       "      <td>Petrol</td>\n",
       "      <td>Individual</td>\n",
       "      <td>Manual</td>\n",
       "      <td>First Owner</td>\n",
       "    </tr>\n",
       "    <tr>\n",
       "      <th>1</th>\n",
       "      <td>Maruti Wagon R LXI Minor</td>\n",
       "      <td>2007</td>\n",
       "      <td>135000</td>\n",
       "      <td>50000</td>\n",
       "      <td>Petrol</td>\n",
       "      <td>Individual</td>\n",
       "      <td>Manual</td>\n",
       "      <td>First Owner</td>\n",
       "    </tr>\n",
       "    <tr>\n",
       "      <th>2</th>\n",
       "      <td>Hyundai Verna 1.6 SX</td>\n",
       "      <td>2012</td>\n",
       "      <td>600000</td>\n",
       "      <td>100000</td>\n",
       "      <td>Diesel</td>\n",
       "      <td>Individual</td>\n",
       "      <td>Manual</td>\n",
       "      <td>First Owner</td>\n",
       "    </tr>\n",
       "    <tr>\n",
       "      <th>3</th>\n",
       "      <td>Datsun RediGO T Option</td>\n",
       "      <td>2017</td>\n",
       "      <td>250000</td>\n",
       "      <td>46000</td>\n",
       "      <td>Petrol</td>\n",
       "      <td>Individual</td>\n",
       "      <td>Manual</td>\n",
       "      <td>First Owner</td>\n",
       "    </tr>\n",
       "    <tr>\n",
       "      <th>4</th>\n",
       "      <td>Honda Amaze VX i-DTEC</td>\n",
       "      <td>2014</td>\n",
       "      <td>450000</td>\n",
       "      <td>141000</td>\n",
       "      <td>Diesel</td>\n",
       "      <td>Individual</td>\n",
       "      <td>Manual</td>\n",
       "      <td>Second Owner</td>\n",
       "    </tr>\n",
       "  </tbody>\n",
       "</table>\n",
       "</div>"
      ],
      "text/plain": [
       "                       name  year  selling_price  km_driven    fuel  \\\n",
       "0             Maruti 800 AC  2007          60000      70000  Petrol   \n",
       "1  Maruti Wagon R LXI Minor  2007         135000      50000  Petrol   \n",
       "2      Hyundai Verna 1.6 SX  2012         600000     100000  Diesel   \n",
       "3    Datsun RediGO T Option  2017         250000      46000  Petrol   \n",
       "4     Honda Amaze VX i-DTEC  2014         450000     141000  Diesel   \n",
       "\n",
       "  seller_type transmission         owner  \n",
       "0  Individual       Manual   First Owner  \n",
       "1  Individual       Manual   First Owner  \n",
       "2  Individual       Manual   First Owner  \n",
       "3  Individual       Manual   First Owner  \n",
       "4  Individual       Manual  Second Owner  "
      ]
     },
     "metadata": {},
     "output_type": "display_data"
    },
    {
     "data": {
      "text/html": [
       "<div>\n",
       "<style scoped>\n",
       "    .dataframe tbody tr th:only-of-type {\n",
       "        vertical-align: middle;\n",
       "    }\n",
       "\n",
       "    .dataframe tbody tr th {\n",
       "        vertical-align: top;\n",
       "    }\n",
       "\n",
       "    .dataframe thead th {\n",
       "        text-align: right;\n",
       "    }\n",
       "</style>\n",
       "<table border=\"1\" class=\"dataframe\">\n",
       "  <thead>\n",
       "    <tr style=\"text-align: right;\">\n",
       "      <th></th>\n",
       "      <th>Car_Name</th>\n",
       "      <th>Year</th>\n",
       "      <th>Selling_Price</th>\n",
       "      <th>Present_Price</th>\n",
       "      <th>Kms_Driven</th>\n",
       "      <th>Fuel_Type</th>\n",
       "      <th>Seller_Type</th>\n",
       "      <th>Transmission</th>\n",
       "      <th>Owner</th>\n",
       "    </tr>\n",
       "  </thead>\n",
       "  <tbody>\n",
       "    <tr>\n",
       "      <th>0</th>\n",
       "      <td>ritz</td>\n",
       "      <td>2014</td>\n",
       "      <td>3.35</td>\n",
       "      <td>5.59</td>\n",
       "      <td>27000</td>\n",
       "      <td>Petrol</td>\n",
       "      <td>Dealer</td>\n",
       "      <td>Manual</td>\n",
       "      <td>0</td>\n",
       "    </tr>\n",
       "    <tr>\n",
       "      <th>1</th>\n",
       "      <td>sx4</td>\n",
       "      <td>2013</td>\n",
       "      <td>4.75</td>\n",
       "      <td>9.54</td>\n",
       "      <td>43000</td>\n",
       "      <td>Diesel</td>\n",
       "      <td>Dealer</td>\n",
       "      <td>Manual</td>\n",
       "      <td>0</td>\n",
       "    </tr>\n",
       "    <tr>\n",
       "      <th>2</th>\n",
       "      <td>ciaz</td>\n",
       "      <td>2017</td>\n",
       "      <td>7.25</td>\n",
       "      <td>9.85</td>\n",
       "      <td>6900</td>\n",
       "      <td>Petrol</td>\n",
       "      <td>Dealer</td>\n",
       "      <td>Manual</td>\n",
       "      <td>0</td>\n",
       "    </tr>\n",
       "    <tr>\n",
       "      <th>3</th>\n",
       "      <td>wagon r</td>\n",
       "      <td>2011</td>\n",
       "      <td>2.85</td>\n",
       "      <td>4.15</td>\n",
       "      <td>5200</td>\n",
       "      <td>Petrol</td>\n",
       "      <td>Dealer</td>\n",
       "      <td>Manual</td>\n",
       "      <td>0</td>\n",
       "    </tr>\n",
       "    <tr>\n",
       "      <th>4</th>\n",
       "      <td>swift</td>\n",
       "      <td>2014</td>\n",
       "      <td>4.60</td>\n",
       "      <td>6.87</td>\n",
       "      <td>42450</td>\n",
       "      <td>Diesel</td>\n",
       "      <td>Dealer</td>\n",
       "      <td>Manual</td>\n",
       "      <td>0</td>\n",
       "    </tr>\n",
       "  </tbody>\n",
       "</table>\n",
       "</div>"
      ],
      "text/plain": [
       "  Car_Name  Year  Selling_Price  Present_Price  Kms_Driven Fuel_Type  \\\n",
       "0     ritz  2014           3.35           5.59       27000    Petrol   \n",
       "1      sx4  2013           4.75           9.54       43000    Diesel   \n",
       "2     ciaz  2017           7.25           9.85        6900    Petrol   \n",
       "3  wagon r  2011           2.85           4.15        5200    Petrol   \n",
       "4    swift  2014           4.60           6.87       42450    Diesel   \n",
       "\n",
       "  Seller_Type Transmission  Owner  \n",
       "0      Dealer       Manual      0  \n",
       "1      Dealer       Manual      0  \n",
       "2      Dealer       Manual      0  \n",
       "3      Dealer       Manual      0  \n",
       "4      Dealer       Manual      0  "
      ]
     },
     "metadata": {},
     "output_type": "display_data"
    }
   ],
   "source": [
    "for table in tables['name']:\n",
    "    display(pd.read_sql_query(f'select * from {table} limit 5',connection))"
   ]
  },
  {
   "cell_type": "code",
   "execution_count": 18,
   "id": "063811e5-0bf9-4baf-80b7-3c79234772e0",
   "metadata": {
    "scrolled": true
   },
   "outputs": [
    {
     "data": {
      "text/html": [
       "<div>\n",
       "<style scoped>\n",
       "    .dataframe tbody tr th:only-of-type {\n",
       "        vertical-align: middle;\n",
       "    }\n",
       "\n",
       "    .dataframe tbody tr th {\n",
       "        vertical-align: top;\n",
       "    }\n",
       "\n",
       "    .dataframe thead th {\n",
       "        text-align: right;\n",
       "    }\n",
       "</style>\n",
       "<table border=\"1\" class=\"dataframe\">\n",
       "  <thead>\n",
       "    <tr style=\"text-align: right;\">\n",
       "      <th></th>\n",
       "      <th>name</th>\n",
       "      <th>avg_selling_price</th>\n",
       "      <th>count(name)</th>\n",
       "      <th>year</th>\n",
       "      <th>transmission</th>\n",
       "    </tr>\n",
       "  </thead>\n",
       "  <tbody>\n",
       "    <tr>\n",
       "      <th>0</th>\n",
       "      <td>Ambassador CLASSIC 1500 DSL AC</td>\n",
       "      <td>120000.0</td>\n",
       "      <td>2</td>\n",
       "      <td>2005</td>\n",
       "      <td>Manual</td>\n",
       "    </tr>\n",
       "    <tr>\n",
       "      <th>1</th>\n",
       "      <td>Ambassador Classic 2000 Dsz</td>\n",
       "      <td>50000.0</td>\n",
       "      <td>1</td>\n",
       "      <td>2002</td>\n",
       "      <td>Manual</td>\n",
       "    </tr>\n",
       "    <tr>\n",
       "      <th>2</th>\n",
       "      <td>Ambassador Grand 1800 ISZ MPFI PW CL</td>\n",
       "      <td>430000.0</td>\n",
       "      <td>1</td>\n",
       "      <td>2012</td>\n",
       "      <td>Manual</td>\n",
       "    </tr>\n",
       "    <tr>\n",
       "      <th>3</th>\n",
       "      <td>Audi A4 1.8 TFSI</td>\n",
       "      <td>1200000.0</td>\n",
       "      <td>1</td>\n",
       "      <td>2012</td>\n",
       "      <td>Automatic</td>\n",
       "    </tr>\n",
       "    <tr>\n",
       "      <th>4</th>\n",
       "      <td>Audi A4 2.0 TDI</td>\n",
       "      <td>1295000.0</td>\n",
       "      <td>1</td>\n",
       "      <td>2011</td>\n",
       "      <td>Automatic</td>\n",
       "    </tr>\n",
       "    <tr>\n",
       "      <th>5</th>\n",
       "      <td>Audi A4 2.0 TDI 177 Bhp Premium Plus</td>\n",
       "      <td>1150000.0</td>\n",
       "      <td>2</td>\n",
       "      <td>2013</td>\n",
       "      <td>Automatic</td>\n",
       "    </tr>\n",
       "    <tr>\n",
       "      <th>6</th>\n",
       "      <td>Audi A4 3.0 TDI Quattro</td>\n",
       "      <td>1580000.0</td>\n",
       "      <td>12</td>\n",
       "      <td>2013</td>\n",
       "      <td>Automatic</td>\n",
       "    </tr>\n",
       "    <tr>\n",
       "      <th>7</th>\n",
       "      <td>Audi A4 30 TFSI Technology</td>\n",
       "      <td>3100000.0</td>\n",
       "      <td>2</td>\n",
       "      <td>2018</td>\n",
       "      <td>Automatic</td>\n",
       "    </tr>\n",
       "    <tr>\n",
       "      <th>8</th>\n",
       "      <td>Audi A4 35 TDI Premium</td>\n",
       "      <td>2300000.0</td>\n",
       "      <td>1</td>\n",
       "      <td>2015</td>\n",
       "      <td>Automatic</td>\n",
       "    </tr>\n",
       "    <tr>\n",
       "      <th>9</th>\n",
       "      <td>Audi A4 35 TDI Premium Plus</td>\n",
       "      <td>3256000.0</td>\n",
       "      <td>1</td>\n",
       "      <td>2019</td>\n",
       "      <td>Automatic</td>\n",
       "    </tr>\n",
       "    <tr>\n",
       "      <th>10</th>\n",
       "      <td>Audi A4 New  2.0 TDI Multitronic</td>\n",
       "      <td>1549000.0</td>\n",
       "      <td>1</td>\n",
       "      <td>2014</td>\n",
       "      <td>Automatic</td>\n",
       "    </tr>\n",
       "    <tr>\n",
       "      <th>11</th>\n",
       "      <td>Audi A5 Sportback</td>\n",
       "      <td>4700000.0</td>\n",
       "      <td>1</td>\n",
       "      <td>2020</td>\n",
       "      <td>Automatic</td>\n",
       "    </tr>\n",
       "    <tr>\n",
       "      <th>12</th>\n",
       "      <td>Audi A6 2.0 TDI  Design Edition</td>\n",
       "      <td>1735000.0</td>\n",
       "      <td>1</td>\n",
       "      <td>2013</td>\n",
       "      <td>Automatic</td>\n",
       "    </tr>\n",
       "    <tr>\n",
       "      <th>13</th>\n",
       "      <td>Audi A6 2.0 TDI  Design Edition</td>\n",
       "      <td>1750000.0</td>\n",
       "      <td>2</td>\n",
       "      <td>2014</td>\n",
       "      <td>Automatic</td>\n",
       "    </tr>\n",
       "    <tr>\n",
       "      <th>14</th>\n",
       "      <td>Audi A6 2.0 TDI Premium Plus</td>\n",
       "      <td>1300000.0</td>\n",
       "      <td>11</td>\n",
       "      <td>2013</td>\n",
       "      <td>Automatic</td>\n",
       "    </tr>\n",
       "    <tr>\n",
       "      <th>15</th>\n",
       "      <td>Audi A6 2.0 TDI Premium Plus</td>\n",
       "      <td>1470000.0</td>\n",
       "      <td>2</td>\n",
       "      <td>2014</td>\n",
       "      <td>Automatic</td>\n",
       "    </tr>\n",
       "    <tr>\n",
       "      <th>16</th>\n",
       "      <td>Audi A6 2.7 TDI</td>\n",
       "      <td>850000.0</td>\n",
       "      <td>1</td>\n",
       "      <td>2010</td>\n",
       "      <td>Automatic</td>\n",
       "    </tr>\n",
       "    <tr>\n",
       "      <th>17</th>\n",
       "      <td>Audi A6 2.8 FSI</td>\n",
       "      <td>650000.0</td>\n",
       "      <td>1</td>\n",
       "      <td>2008</td>\n",
       "      <td>Automatic</td>\n",
       "    </tr>\n",
       "    <tr>\n",
       "      <th>18</th>\n",
       "      <td>Audi A8 4.2 TDI</td>\n",
       "      <td>2800000.0</td>\n",
       "      <td>2</td>\n",
       "      <td>2013</td>\n",
       "      <td>Automatic</td>\n",
       "    </tr>\n",
       "    <tr>\n",
       "      <th>19</th>\n",
       "      <td>Audi A8 L 3.0 TDI quattro</td>\n",
       "      <td>1250000.0</td>\n",
       "      <td>1</td>\n",
       "      <td>2009</td>\n",
       "      <td>Automatic</td>\n",
       "    </tr>\n",
       "  </tbody>\n",
       "</table>\n",
       "</div>"
      ],
      "text/plain": [
       "                                    name  avg_selling_price  count(name)  \\\n",
       "0         Ambassador CLASSIC 1500 DSL AC           120000.0            2   \n",
       "1            Ambassador Classic 2000 Dsz            50000.0            1   \n",
       "2   Ambassador Grand 1800 ISZ MPFI PW CL           430000.0            1   \n",
       "3                       Audi A4 1.8 TFSI          1200000.0            1   \n",
       "4                        Audi A4 2.0 TDI          1295000.0            1   \n",
       "5   Audi A4 2.0 TDI 177 Bhp Premium Plus          1150000.0            2   \n",
       "6                Audi A4 3.0 TDI Quattro          1580000.0           12   \n",
       "7             Audi A4 30 TFSI Technology          3100000.0            2   \n",
       "8                 Audi A4 35 TDI Premium          2300000.0            1   \n",
       "9            Audi A4 35 TDI Premium Plus          3256000.0            1   \n",
       "10      Audi A4 New  2.0 TDI Multitronic          1549000.0            1   \n",
       "11                     Audi A5 Sportback          4700000.0            1   \n",
       "12       Audi A6 2.0 TDI  Design Edition          1735000.0            1   \n",
       "13       Audi A6 2.0 TDI  Design Edition          1750000.0            2   \n",
       "14          Audi A6 2.0 TDI Premium Plus          1300000.0           11   \n",
       "15          Audi A6 2.0 TDI Premium Plus          1470000.0            2   \n",
       "16                       Audi A6 2.7 TDI           850000.0            1   \n",
       "17                       Audi A6 2.8 FSI           650000.0            1   \n",
       "18                       Audi A8 4.2 TDI          2800000.0            2   \n",
       "19             Audi A8 L 3.0 TDI quattro          1250000.0            1   \n",
       "\n",
       "    year transmission  \n",
       "0   2005       Manual  \n",
       "1   2002       Manual  \n",
       "2   2012       Manual  \n",
       "3   2012    Automatic  \n",
       "4   2011    Automatic  \n",
       "5   2013    Automatic  \n",
       "6   2013    Automatic  \n",
       "7   2018    Automatic  \n",
       "8   2015    Automatic  \n",
       "9   2019    Automatic  \n",
       "10  2014    Automatic  \n",
       "11  2020    Automatic  \n",
       "12  2013    Automatic  \n",
       "13  2014    Automatic  \n",
       "14  2013    Automatic  \n",
       "15  2014    Automatic  \n",
       "16  2010    Automatic  \n",
       "17  2008    Automatic  \n",
       "18  2013    Automatic  \n",
       "19  2009    Automatic  "
      ]
     },
     "execution_count": 18,
     "metadata": {},
     "output_type": "execute_result"
    }
   ],
   "source": [
    "# 1. What is the average selling price of each car model, along with the year of purchase and transmission type?\n",
    "pd.read_sql_query('select name,avg(selling_price) as avg_selling_price ,count(name), year,transmission from details group by name,year,transmission order by name limit 20',connection)\n"
   ]
  },
  {
   "cell_type": "code",
   "execution_count": 19,
   "id": "4d194cb0-a8d3-49f9-9e9f-67fe26859f33",
   "metadata": {},
   "outputs": [],
   "source": [
    "#2 Price Trend Analysis\n",
    "# What is the average selling price of cars based on the year of purchase? \n",
    "old_cars=pd.read_sql_query('select year,(sum(selling_price)/count(name)) as avg_selling_price,count(name) from details where year between 2003 and 2018 group by year ',connection)"
   ]
  },
  {
   "cell_type": "code",
   "execution_count": 20,
   "id": "74fd0e6c-cbe2-44e5-ba68-1635ccf91cdc",
   "metadata": {},
   "outputs": [
    {
     "data": {
      "text/plain": [
       "Text(0.5, 1.0, 'Average Selling Price Over the Years')"
      ]
     },
     "execution_count": 20,
     "metadata": {},
     "output_type": "execute_result"
    },
    {
     "data": {
      "image/png": "[encoded data removed]",
      "text/plain": [
       "<Figure size 640x480 with 1 Axes>"
      ]
     },
     "metadata": {},
     "output_type": "display_data"
    }
   ],
   "source": [
    "plt.plot(old_cars['year'],old_cars['avg_selling_price'],color='orange')\n",
    "plt.xlabel('years')\n",
    "plt.ylabel('avg_selling_price')\n",
    "\n",
    "formatter = ticker.FuncFormatter(lambda x, pos: f'{x*1e-6:.1f}M')\n",
    "plt.gca().yaxis.set_major_formatter(formatter)\n",
    "\n",
    "plt.title('Average Selling Price Over the Years')"
   ]
  },
  {
   "cell_type": "code",
   "execution_count": 21,
   "id": "ec6d420b-af52-48e2-b3a3-ae7008dd1272",
   "metadata": {},
   "outputs": [
    {
     "data": {
      "text/html": [
       "<div>\n",
       "<style scoped>\n",
       "    .dataframe tbody tr th:only-of-type {\n",
       "        vertical-align: middle;\n",
       "    }\n",
       "\n",
       "    .dataframe tbody tr th {\n",
       "        vertical-align: top;\n",
       "    }\n",
       "\n",
       "    .dataframe thead th {\n",
       "        text-align: right;\n",
       "    }\n",
       "</style>\n",
       "<table border=\"1\" class=\"dataframe\">\n",
       "  <thead>\n",
       "    <tr style=\"text-align: right;\">\n",
       "      <th></th>\n",
       "      <th>Year</th>\n",
       "      <th>new_price</th>\n",
       "    </tr>\n",
       "  </thead>\n",
       "  <tbody>\n",
       "    <tr>\n",
       "      <th>0</th>\n",
       "      <td>2003</td>\n",
       "      <td>513000.0</td>\n",
       "    </tr>\n",
       "    <tr>\n",
       "      <th>1</th>\n",
       "      <td>2004</td>\n",
       "      <td>1235000.0</td>\n",
       "    </tr>\n",
       "    <tr>\n",
       "      <th>2</th>\n",
       "      <td>2005</td>\n",
       "      <td>948500.0</td>\n",
       "    </tr>\n",
       "    <tr>\n",
       "      <th>3</th>\n",
       "      <td>2006</td>\n",
       "      <td>905750.0</td>\n",
       "    </tr>\n",
       "    <tr>\n",
       "      <th>4</th>\n",
       "      <td>2007</td>\n",
       "      <td>66500.0</td>\n",
       "    </tr>\n",
       "    <tr>\n",
       "      <th>5</th>\n",
       "      <td>2008</td>\n",
       "      <td>475957.0</td>\n",
       "    </tr>\n",
       "    <tr>\n",
       "      <th>6</th>\n",
       "      <td>2009</td>\n",
       "      <td>1060167.0</td>\n",
       "    </tr>\n",
       "    <tr>\n",
       "      <th>7</th>\n",
       "      <td>2010</td>\n",
       "      <td>1433067.0</td>\n",
       "    </tr>\n",
       "    <tr>\n",
       "      <th>8</th>\n",
       "      <td>2011</td>\n",
       "      <td>514805.0</td>\n",
       "    </tr>\n",
       "    <tr>\n",
       "      <th>9</th>\n",
       "      <td>2012</td>\n",
       "      <td>798478.0</td>\n",
       "    </tr>\n",
       "    <tr>\n",
       "      <th>10</th>\n",
       "      <td>2013</td>\n",
       "      <td>682112.0</td>\n",
       "    </tr>\n",
       "    <tr>\n",
       "      <th>11</th>\n",
       "      <td>2014</td>\n",
       "      <td>783797.0</td>\n",
       "    </tr>\n",
       "    <tr>\n",
       "      <th>12</th>\n",
       "      <td>2015</td>\n",
       "      <td>818197.0</td>\n",
       "    </tr>\n",
       "    <tr>\n",
       "      <th>13</th>\n",
       "      <td>2016</td>\n",
       "      <td>655080.0</td>\n",
       "    </tr>\n",
       "    <tr>\n",
       "      <th>14</th>\n",
       "      <td>2017</td>\n",
       "      <td>700857.0</td>\n",
       "    </tr>\n",
       "    <tr>\n",
       "      <th>15</th>\n",
       "      <td>2018</td>\n",
       "      <td>983000.0</td>\n",
       "    </tr>\n",
       "  </tbody>\n",
       "</table>\n",
       "</div>"
      ],
      "text/plain": [
       "    Year  new_price\n",
       "0   2003   513000.0\n",
       "1   2004  1235000.0\n",
       "2   2005   948500.0\n",
       "3   2006   905750.0\n",
       "4   2007    66500.0\n",
       "5   2008   475957.0\n",
       "6   2009  1060167.0\n",
       "7   2010  1433067.0\n",
       "8   2011   514805.0\n",
       "9   2012   798478.0\n",
       "10  2013   682112.0\n",
       "11  2014   783797.0\n",
       "12  2015   818197.0\n",
       "13  2016   655080.0\n",
       "14  2017   700857.0\n",
       "15  2018   983000.0"
      ]
     },
     "execution_count": 21,
     "metadata": {},
     "output_type": "execute_result"
    }
   ],
   "source": [
    "#3 What is the average selling price of new cars based on year? \n",
    "pd.read_sql_query(\n",
    "    'SELECT year, round(AVG(Present_Price)*100000,0) AS new_price FROM true_values GROUP BY year', \n",
    "    connection\n",
    ")"
   ]
  },
  {
   "cell_type": "code",
   "execution_count": 22,
   "id": "074c34b1-d7fc-46ad-bbc3-19f9757a1a09",
   "metadata": {},
   "outputs": [],
   "source": [
    "#4 How does the selling price vary between cars with different fuel types?\n",
    "fuel_types=pd.read_sql_query(\n",
    "    'SELECT Fuel,round(avg(selling_price),0) as price  from details GROUP BY fuel', \n",
    "    connection\n",
    ")"
   ]
  },
  {
   "cell_type": "code",
   "execution_count": 23,
   "id": "5e8b1471-278a-452a-bc5f-5efaaa7fa47b",
   "metadata": {},
   "outputs": [
    {
     "data": {
      "text/plain": [
       "Text(0, 0.5, 'average of price')"
      ]
     },
     "execution_count": 23,
     "metadata": {},
     "output_type": "execute_result"
    },
    {
     "data": {
      "image/png": "[encoded data removed]",
      "text/plain": [
       "<Figure size 640x480 with 1 Axes>"
      ]
     },
     "metadata": {},
     "output_type": "display_data"
    }
   ],
   "source": [
    "colors = plt.cm.viridis(np.linspace(0, 1, len(fuel_types)))\n",
    "plt.bar(fuel_types['fuel'],fuel_types['price'],color=colors)\n",
    "plt.xlabel('Fuel Types')\n",
    "plt.ylabel('average of price')"
   ]
  },
  {
   "cell_type": "code",
   "execution_count": 24,
   "id": "aacb2cc8-565a-4c1a-a492-cd45868a0a56",
   "metadata": {},
   "outputs": [],
   "source": [
    "#5 How does the selling price vary with the number of owners?\n",
    "owners=pd.read_sql_query(\n",
    "    'SELECT owner,round(avg(selling_price),0) as price  from details GROUP BY owner order by price desc', \n",
    "    connection\n",
    ")"
   ]
  },
  {
   "cell_type": "code",
   "execution_count": 25,
   "id": "21f14b07-8e66-474c-ba71-cbe606353649",
   "metadata": {},
   "outputs": [
    {
     "data": {
      "image/png": "[encoded data removed]",
      "text/plain": [
       "<Figure size 640x480 with 1 Axes>"
      ]
     },
     "metadata": {},
     "output_type": "display_data"
    }
   ],
   "source": [
    "colors={'green','orange','pink','yellow','teal'}\n",
    "plt.bar(owners['owner'],owners['price'],color=colors)\n",
    "formatter = ticker.FuncFormatter(lambda x, pos: f'{x*10e-6:.1f}L')\n",
    "plt.gca().yaxis.set_major_formatter(formatter)"
   ]
  },
  {
   "cell_type": "code",
   "execution_count": 26,
   "id": "88d7a541-9b6c-44b0-bd23-b41020664f4f",
   "metadata": {},
   "outputs": [
    {
     "name": "stdout",
     "output_type": "stream",
     "text": [
      "Correlation between KM Driven and Selling Price: -0.1922886305451139\n"
     ]
    }
   ],
   "source": [
    "#6 correlation between KM Driven and. Selling Price\n",
    "car_details = pd.read_sql_query(\n",
    "    'SELECT km_driven, selling_price AS price FROM details ORDER BY price DESC',\n",
    "    connection\n",
    ")\n",
    "correlation = car_details['km_driven'].corr(car_details['price'])\n",
    "print(f'Correlation between KM Driven and Selling Price: {correlation}')\n"
   ]
  },
  {
   "cell_type": "code",
   "execution_count": 29,
   "id": "e0afedba-bb74-4a80-86cd-15d202f1fa01",
   "metadata": {},
   "outputs": [
    {
     "name": "stdout",
     "output_type": "stream",
     "text": [
      "        Car_Name  numbers_of_model\n",
      "0           city                26\n",
      "1  corolla altis                16\n",
      "2          verna                14\n",
      "3       fortuner                11\n",
      "4           brio                10\n",
      "5         innova                 9\n",
      "6            i20                 9\n",
      "7           ciaz                 9\n",
      "8      grand i10                 8\n",
      "9           jazz                 7\n"
     ]
    }
   ],
   "source": [
    "#7 the car having more number of models\n",
    "car_popularity = pd.read_sql_query(\"\"\"\n",
    "    SELECT Car_Name, COUNT(*) AS numbers_of_model\n",
    "    FROM true_values \n",
    "    GROUP BY Car_Name \n",
    "    ORDER BY numbers_of_model DESC\n",
    "\"\"\", connection)\n",
    "print(car_popularity.head(10))\n",
    "\n"
   ]
  },
  {
   "cell_type": "code",
   "execution_count": 30,
   "id": "7a8ddaf8-03c6-400c-a0d1-a2914dc5f479",
   "metadata": {},
   "outputs": [
    {
     "name": "stdout",
     "output_type": "stream",
     "text": [
      "                         name    fuel  no_of_car\n",
      "0      Maruti Swift Dzire VDI  Diesel         69\n",
      "1         Maruti Alto 800 LXI  Petrol         59\n",
      "2             Maruti Alto LXi  Petrol         47\n",
      "3        Hyundai EON Era Plus  Petrol         35\n",
      "4              Maruti Alto LX  Petrol         35\n",
      "5       Maruti Swift VDI BSIV  Diesel         29\n",
      "6    Maruti Wagon R VXI BS IV  Petrol         29\n",
      "7            Maruti Swift VDI  Diesel         27\n",
      "8      Hyundai EON Magna Plus  Petrol         24\n",
      "9    Maruti Wagon R LXI Minor  Petrol         24\n",
      "10              Maruti 800 AC  Petrol         23\n",
      "11         Maruti Wagon R LXI  Petrol         23\n",
      "12          Hyundai i10 Magna  Petrol         22\n",
      "13     Mahindra XUV500 W8 2WD  Diesel         22\n",
      "14            Maruti Ritz VDi  Diesel         22\n",
      "15    Hyundai Santro Xing GLS  Petrol         21\n",
      "16        Maruti Alto K10 VXI  Petrol         21\n",
      "17           Renault KWID RXT  Petrol         21\n",
      "18  Hyundai Creta 1.6 CRDi SX  Diesel         19\n",
      "19   Chevrolet Beat Diesel LT  Diesel         17\n"
     ]
    }
   ],
   "source": [
    "#8 the top 20 most frequently available car and their quantity?\n",
    "same_model=pd.read_sql_query('select name,fuel,count(name ) as no_of_car from details group by name,fuel order by no_of_car desc' ,connection)\n",
    "print(same_model.head(20))"
   ]
  },
  {
   "cell_type": "code",
   "execution_count": 53,
   "id": "8928f3ec-853f-46ff-8315-5659ad9b6f77",
   "metadata": {},
   "outputs": [],
   "source": [
    "#9 How much value does a car lose on average per year?\n",
    "#10 What is the average depreciation rate for cars in the dataset?\n",
    "details = pd.read_sql_query('SELECT Car_Name, Year, Selling_Price, Present_Price FROM true_values', connection)\n"
   ]
  },
  {
   "cell_type": "code",
   "execution_count": 55,
   "id": "b628cdde-c6cc-42db-ba52-bb4d4196d666",
   "metadata": {},
   "outputs": [],
   "source": [
    "details['years'] = 2018- details['Year']"
   ]
  },
  {
   "cell_type": "code",
   "execution_count": 56,
   "id": "0ac3847c-694b-4ba1-9235-db77f2d361af",
   "metadata": {},
   "outputs": [
    {
     "name": "stdout",
     "output_type": "stream",
     "text": [
      "Average Depreciation Rate per year: 0.71 currency units per year\n"
     ]
    }
   ],
   "source": [
    "details['depreciation_rate'] = (details['Present_Price'] - details['Selling_Price']) / details['years']\n",
    "\n",
    "details = details[details['years'] > 0]\n",
    "details = details[details['Present_Price'] > details['Selling_Price']]\n",
    "\n",
    "average_depreciation_rate = details['depreciation_rate'].mean()\n",
    "\n",
    "print(f'Average Depreciation Rate per year: {average_depreciation_rate:.2f} currency units per year')"
   ]
  },
  {
   "cell_type": "code",
   "execution_count": 57,
   "id": "f9091cd2-5ce4-40cf-8e61-0d9fe8e52867",
   "metadata": {},
   "outputs": [
    {
     "data": {
      "image/png": "[encoded data removed]",
      "text/plain": [
       "<Figure size 1000x600 with 1 Axes>"
      ]
     },
     "metadata": {},
     "output_type": "display_data"
    }
   ],
   "source": [
    "plt.figure(figsize=(10, 6))\n",
    "plt.scatter(details['years'], details['depreciation_rate'], color='blue', alpha=0.5)\n",
    "plt.title('Car Value Depreciation Over Time')\n",
    "plt.xlabel('Years Owned')\n",
    "plt.ylabel('Depreciation Rate (Currency units per year)')\n",
    "plt.grid(True)\n"
   ]
  },
  {
   "cell_type": "code",
   "execution_count": null,
   "id": "801e181d-e737-40b2-bede-42fbd2878aac",
   "metadata": {},
   "outputs": [],
   "source": []
  }
 ],
 "metadata": {
  "kernelspec": {
   "display_name": "Python 3 (ipykernel)",
   "language": "python",
   "name": "python3"
  },
  "language_info": {
   "codemirror_mode": {
    "name": "ipython",
    "version": 3
   },
   "file_extension": ".py",
   "mimetype": "text/x-python",
   "name": "python",
   "nbconvert_exporter": "python",
   "pygments_lexer": "ipython3",
   "version": "3.9.13"
  }
 },
 "nbformat": 4,
 "nbformat_minor": 5
}
